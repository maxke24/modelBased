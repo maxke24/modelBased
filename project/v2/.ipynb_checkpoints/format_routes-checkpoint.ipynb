{
 "cells": [
  {
   "cell_type": "code",
   "execution_count": 1,
   "id": "e2756ac4-b4b1-4667-ae58-384a296f89c6",
   "metadata": {},
   "outputs": [],
   "source": [
    "import pandas as pd\n",
    "\n",
    "# Load routes DataFrame\n",
    "routes = pd.read_csv('routes.lp')\n",
    "\n",
    "# Define a function to clean the route IDs\n",
    "def clean_route_ids(route_id):\n",
    "    parts = route_id.split(':')\n",
    "    trip_id = int(parts[0].split(',')[1])\n",
    "    return f\"Route({route_id.split('(')[0]}, {trip_id})\"\n",
    "\n",
    "# Apply the cleaning function to each row\n",
    "routes['cleaned_route'] = routes.apply(clean_route_ids, axis=1)\n",
    "\n",
    "# Replace the original column with the cleaned column\n",
    "routes['Route(oid, tid)'] = routes['cleaned_route']\n",
    "\n",
    "# Save the updated DataFrame back to a CSV file\n",
    "routes.to_csv('routes_reformat.lp', index=False)"
   ]
  }
 ],
 "metadata": {
  "kernelspec": {
   "display_name": "Python 3 (ipykernel)",
   "language": "python",
   "name": "python3"
  },
  "language_info": {
   "codemirror_mode": {
    "name": "ipython",
    "version": 3
   },
   "file_extension": ".py",
   "mimetype": "text/x-python",
   "name": "python",
   "nbconvert_exporter": "python",
   "pygments_lexer": "ipython3",
   "version": "3.11.5"
  }
 },
 "nbformat": 4,
 "nbformat_minor": 5
}

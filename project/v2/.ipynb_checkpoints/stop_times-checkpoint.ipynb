{
 "cells": [
  {
   "cell_type": "markdown",
   "id": "115227dd-963a-4431-9e1e-5380a91591ef",
   "metadata": {},
   "source": [
    "Here we take the stop_times.csv and transform it to a stop_times.lp to use in asp."
   ]
  },
  {
   "cell_type": "code",
   "execution_count": 47,
   "id": "80993da5-94ad-4bf6-9220-5bf6dc1744f5",
   "metadata": {},
   "outputs": [],
   "source": [
    "import pandas as pd\n",
    "import io\n",
    "from datetime import time\n",
    "\n",
    "stop_times = pd.read_csv('gtfs_data/stop_times.csv')\n",
    "\n",
    "stop_times['from'] = stop_times['trip_id'].str.split(':').str[3]\n",
    "stop_times['to'] = stop_times['trip_id'].str.split(':').str[4]\n",
    "\n",
    "stop_times_dropna = stop_times[['trip_id', 'stop_id', 'from', 'to', 'arrival_time', 'departure_time', 'stop_sequence']].drop_duplicates()\n",
    "\n",
    "# Create a CLINGO file with unique stop_times predicates\n",
    "with open(\"stop_times.lp\", \"w\") as f:\n",
    "    trips = stop_times_dropna.groupby('trip_id')\n",
    "    for name, group in trips:\n",
    "        for index, row in group.iterrows():\n",
    "            date = datetime.datetime.strptime('2024-11-24', '%Y-%m-%d').date()\n",
    "            hr = int(row['arrival_time'].split(':')[0])\n",
    "            if hr <= 23:\n",
    "                tm = time(hour = hr, minute = int(row['arrival_time'].split(':')[1]))\n",
    "                dt = int(datetime.datetime.combine(date, tm).timestamp())\n",
    "                f.write(f'''stop_times(\"{row['trip_id']}\", {row['stop_id']}, {dt}, {row['stop_sequence']}).\\n''')"
   ]
  }
 ],
 "metadata": {
  "kernelspec": {
   "display_name": "Python 3 (ipykernel)",
   "language": "python",
   "name": "python3"
  },
  "language_info": {
   "codemirror_mode": {
    "name": "ipython",
    "version": 3
   },
   "file_extension": ".py",
   "mimetype": "text/x-python",
   "name": "python",
   "nbconvert_exporter": "python",
   "pygments_lexer": "ipython3",
   "version": "3.11.5"
  }
 },
 "nbformat": 4,
 "nbformat_minor": 5
}

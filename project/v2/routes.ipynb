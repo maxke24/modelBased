{
 "cells": [
  {
   "cell_type": "code",
   "execution_count": 1,
   "id": "624d2674-eb26-4a60-840a-279c5771273b",
   "metadata": {},
   "outputs": [],
   "source": [
    "import pandas as pd\n",
    "\n",
    "routes = pd.read_csv('gtfs_data/routes.csv')\n",
    "trips = pd.read_csv('gtfs_data/trips.csv')\n",
    "\n",
    "fltr = ['BUS', 'EXP']\n",
    "routes_filtered = routes[routes['route_short_name'].isin(fltr) == False]"
   ]
  },
  {
   "cell_type": "code",
   "execution_count": 2,
   "id": "831a316e-d989-468b-aaaf-94fd2464069e",
   "metadata": {},
   "outputs": [],
   "source": [
    "# Perform a left merge (add columns from trips DataFrame if route_id exists in both)\n",
    "merged_df = pd.merge(routes_filtered, trips[['route_id', 'trip_id', 'trip_headsign']], \n",
    "                   on='route_id', how='left')\n",
    "\n",
    "# Drop any rows where the route_id doesn't exist in the routes DataFrame\n",
    "merged_df = merged_df.dropna(subset=['route_id'])"
   ]
  },
  {
   "cell_type": "code",
   "execution_count": 3,
   "id": "ad75e8d3-a1bd-4a70-a229-bd5ca745df52",
   "metadata": {},
   "outputs": [],
   "source": [
    "# Create a new DataFrame with only the desired columns\n",
    "desired_columns = ['route_id', 'trip_id', 'trip_headsign']\n",
    "routes_with_data = merged_df[desired_columns]\n",
    "\n",
    "# Export to CSV\n",
    "routes_with_data.to_csv('routes_with_data.csv', index=False)\n",
    "\n",
    "# The above line creates a new file named \"routes_with_data.csv\" in the same directory as your python script\n",
    "\n",
    "# Now, you can use the following command to create the .lp file that CLINGO expects:\n",
    "# python -m clingo --lp routes_with_data.lp"
   ]
  },
  {
   "cell_type": "code",
   "execution_count": 4,
   "id": "fbea7078-29c1-471a-b8c7-59cd44d6ac88",
   "metadata": {},
   "outputs": [],
   "source": [
    "import pandas as pd\n",
    "import io\n",
    "\n",
    "# Create variables for route_id, trip_id and trip_headsign\n",
    "route_var = 'route'\n",
    "\n",
    "# Perform a left merge (add columns from trips DataFrame if route_id exists in both)\n",
    "merged_df = pd.merge(routes_filtered, trips[['route_id', 'trip_id', 'trip_headsign']], \n",
    "                   on='route_id', how='left')\n",
    "\n",
    "# Drop any rows where the route_id doesn't exist in the routes DataFrame\n",
    "merged_df = merged_df.dropna(subset=['route_id'])\n",
    "merged_df['from'] = merged_df['trip_id'].str.split(':').str[3]\n",
    "merged_df['to'] = merged_df['trip_id'].str.split(':').str[4]\n",
    "\n",
    "merged_df_dropna = merged_df[['route_id', 'from', 'to', 'trip_id']].drop_duplicates()\n",
    "\n",
    "# Create a CLINGO file with unique route predicates\n",
    "with open(\"routes.lp\", \"w\") as f:\n",
    "    for index, row in merged_df_dropna.iterrows():\n",
    "        f.write(f'''{route_var}({row['route_id']}, \"{row['trip_id']}\", {row['from']}, {row['to']}).\\n''')"
   ]
  },
  {
   "cell_type": "code",
   "execution_count": 5,
   "id": "5a59810c-b917-4e87-bd3b-64aa09972f75",
   "metadata": {},
   "outputs": [],
   "source": [
    "import re\n",
    "# Create variables for route_id, trip_id and trip_headsign\n",
    "route_var = 'departure_time'\n",
    "\n",
    "# Create a CLINGO file with unique route predicates\n",
    "with open(\"departures.lp\", \"w\") as f:\n",
    "    for index, row in merged_df_dropna.iterrows():\n",
    "        match = re.search(r':(\\d+):\\d{8}$', row['trip_id'])  # Match the second-to-last numeric group\n",
    "        if match:\n",
    "            number = match.group(1)\n",
    "            departure = number[:-2]  # Remove the last two digits\n",
    "            if departure:\n",
    "                f.write(f'''{route_var}({row['route_id']}, \"{row['trip_id']}\", {departure}).\\n''')"
   ]
  },
  {
   "cell_type": "code",
   "execution_count": 6,
   "id": "d3d87201-c24b-44ff-9061-f30a03d3922b",
   "metadata": {},
   "outputs": [
    {
     "name": "stdout",
     "output_type": "stream",
     "text": [
      "8814209\n"
     ]
    }
   ],
   "source": [
    "st = \"88____:007::8872009:8814209:7:430:20241117\"\n",
    "stl = st.split(':')\n",
    "print(stl[4])"
   ]
  },
  {
   "cell_type": "code",
   "execution_count": 7,
   "id": "82821c41-377b-41f9-b9f3-6679d98be1a0",
   "metadata": {},
   "outputs": [
    {
     "name": "stdout",
     "output_type": "stream",
     "text": [
      "23\n",
      "6\n",
      "6\n",
      "6\n",
      "23\n",
      "23\n"
     ]
    }
   ],
   "source": [
    "import re\n",
    "\n",
    "strings = [\n",
    "    \"88____:046::8894508:8822608:5:2307:20250119\",\n",
    "    \"88____:007::8891009:8841004:37:653:20251107\",\n",
    "    \"88____:007::8891009:8841004:37:649:20251212\",\n",
    "    \"88____:007::8891009:8841004:39:649:20250221\",\n",
    "    \"88____:007::8841004:8891009:37:2350:20251212\",\n",
    "    \"88____:007::8841004:8891009:39:2350:20250221\"\n",
    "]\n",
    "\n",
    "# Extract the desired numbers by removing the last two digits\n",
    "for s in strings:\n",
    "    match = re.search(r':(\\d+):\\d{8}$', s)  # Match the second-to-last numeric group\n",
    "    if match:\n",
    "        number = match.group(1)\n",
    "        result = number[:-2]  # Remove the last two digits\n",
    "        print(result)\n"
   ]
  }
 ],
 "metadata": {
  "kernelspec": {
   "display_name": "Python 3 (ipykernel)",
   "language": "python",
   "name": "python3"
  },
  "language_info": {
   "codemirror_mode": {
    "name": "ipython",
    "version": 3
   },
   "file_extension": ".py",
   "mimetype": "text/x-python",
   "name": "python",
   "nbconvert_exporter": "python",
   "pygments_lexer": "ipython3",
   "version": "3.11.5"
  }
 },
 "nbformat": 4,
 "nbformat_minor": 5
}

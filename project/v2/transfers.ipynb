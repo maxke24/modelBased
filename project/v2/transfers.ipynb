{
 "cells": [
  {
   "cell_type": "code",
   "execution_count": 5,
   "id": "12620c21-9111-4698-a294-bee7b08aebfd",
   "metadata": {},
   "outputs": [],
   "source": [
    "import pandas as pd\n",
    "import numpy as np\n",
    "\n",
    "transfers = pd.read_csv('gtfs_data/transfers.csv')\n",
    "\n",
    "# Drop duplicates from stops DataFrame (if any)\n",
    "transfers = transfers.drop_duplicates()\n",
    "\n",
    "# Create a CLINGO file with unique stops predicate\n",
    "with open(\"transfers.lp\", \"w\") as f:\n",
    "    for index, row in transfers.iterrows():\n",
    "        f.write(f\"stops({str(row['from_stop_id']).split('.')[0]}, {str(row['to_stop_id']).split('.')[0]}).\\n\")"
   ]
  }
 ],
 "metadata": {
  "kernelspec": {
   "display_name": "Python 3 (ipykernel)",
   "language": "python",
   "name": "python3"
  },
  "language_info": {
   "codemirror_mode": {
    "name": "ipython",
    "version": 3
   },
   "file_extension": ".py",
   "mimetype": "text/x-python",
   "name": "python",
   "nbconvert_exporter": "python",
   "pygments_lexer": "ipython3",
   "version": "3.11.5"
  }
 },
 "nbformat": 4,
 "nbformat_minor": 5
}

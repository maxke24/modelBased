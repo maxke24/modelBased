{
 "cells": [
  {
   "cell_type": "code",
   "execution_count": 1,
   "id": "4cf7295b-c6fa-452a-bf1a-0253b917b4b8",
   "metadata": {},
   "outputs": [
    {
     "name": "stdout",
     "output_type": "stream",
     "text": [
      "    stop_name\n",
      "0    bushalte\n",
      "1     station\n",
      "2  luchthaven\n"
     ]
    }
   ],
   "source": [
    "import pandas as pd\n",
    "\n",
    "# Example DataFrame with French stop names\n",
    "df_stops = pd.DataFrame({\n",
    "    'stop_name': ['arrêt de bus', 'gare', 'aéroport']\n",
    "})\n",
    "\n",
    "# Example DataFrame with translations\n",
    "df_translations = pd.DataFrame({\n",
    "    'field_value': ['arrêt de bus', 'gare', 'aéroport'],\n",
    "    'translation': ['bushalte', 'station', 'luchthaven'],\n",
    "    'language': ['nl', 'nl', 'nl']\n",
    "})\n",
    "\n",
    "# Filter the translations DataFrame to include only Dutch translations\n",
    "df_translations_nl = df_translations[df_translations['language'] == 'nl']\n",
    "\n",
    "# Merge the DataFrames on the French stop names\n",
    "df_merged = df_stops.merge(df_translations_nl, left_on='stop_name', right_on='field_value', how='left')\n",
    "\n",
    "# Replace the French stop names with Dutch translations\n",
    "df_merged['stop_name'] = df_merged['translation']\n",
    "\n",
    "# Drop unnecessary columns\n",
    "df_final = df_merged[['stop_name']]\n",
    "\n",
    "# Resulting DataFrame\n",
    "print(df_final)\n"
   ]
  }
 ],
 "metadata": {
  "kernelspec": {
   "display_name": "Python 3 (ipykernel)",
   "language": "python",
   "name": "python3"
  },
  "language_info": {
   "codemirror_mode": {
    "name": "ipython",
    "version": 3
   },
   "file_extension": ".py",
   "mimetype": "text/x-python",
   "name": "python",
   "nbconvert_exporter": "python",
   "pygments_lexer": "ipython3",
   "version": "3.11.5"
  }
 },
 "nbformat": 4,
 "nbformat_minor": 5
}
